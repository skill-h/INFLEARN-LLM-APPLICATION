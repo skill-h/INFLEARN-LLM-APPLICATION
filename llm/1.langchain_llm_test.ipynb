{
 "cells": [
  {
   "cell_type": "code",
   "execution_count": 1,
   "metadata": {},
   "outputs": [
    {
     "name": "stdout",
     "output_type": "stream",
     "text": [
      "Collecting langchain-openaiNote: you may need to restart the kernel to use updated packages.\n",
      "\n",
      "  Downloading langchain_openai-0.1.13-py3-none-any.whl (45 kB)\n",
      "     ---------------------------------------- 45.9/45.9 kB 1.1 MB/s eta 0:00:00\n",
      "Collecting python-dotenv\n",
      "  Downloading python_dotenv-1.0.1-py3-none-any.whl (19 kB)\n",
      "Collecting openai<2.0.0,>=1.32.0\n",
      "  Downloading openai-1.35.7-py3-none-any.whl (327 kB)\n",
      "     ------------------------------------- 327.5/327.5 kB 10.2 MB/s eta 0:00:00\n",
      "Collecting langchain-core<0.3,>=0.2.2\n",
      "  Downloading langchain_core-0.2.10-py3-none-any.whl (332 kB)\n",
      "     ------------------------------------- 332.8/332.8 kB 10.4 MB/s eta 0:00:00\n",
      "Collecting tiktoken<1,>=0.7\n",
      "  Downloading tiktoken-0.7.0-cp310-cp310-win_amd64.whl (798 kB)\n",
      "     ------------------------------------- 798.9/798.9 kB 10.1 MB/s eta 0:00:00\n",
      "Collecting pydantic<3,>=1\n",
      "  Downloading pydantic-2.7.4-py3-none-any.whl (409 kB)\n",
      "     -------------------------------------- 409.0/409.0 kB 8.5 MB/s eta 0:00:00\n",
      "Collecting langsmith<0.2.0,>=0.1.75\n",
      "  Downloading langsmith-0.1.82-py3-none-any.whl (127 kB)\n",
      "     -------------------------------------- 127.4/127.4 kB 3.8 MB/s eta 0:00:00\n",
      "Collecting jsonpatch<2.0,>=1.33\n",
      "  Downloading jsonpatch-1.33-py2.py3-none-any.whl (12 kB)\n",
      "Collecting PyYAML>=5.3\n",
      "  Downloading PyYAML-6.0.1-cp310-cp310-win_amd64.whl (145 kB)\n",
      "     -------------------------------------- 145.3/145.3 kB 8.4 MB/s eta 0:00:00\n",
      "Requirement already satisfied: packaging<25,>=23.2 in .\\inflearn-llm-application\\lib\\site-packages (from langchain-core<0.3,>=0.2.2->langchain-openai) (24.1)\n",
      "Collecting tenacity!=8.4.0,<9.0.0,>=8.1.0\n",
      "  Downloading tenacity-8.4.2-py3-none-any.whl (28 kB)\n",
      "Requirement already satisfied: typing-extensions<5,>=4.7 in .\\inflearn-llm-application\\lib\\site-packages (from openai<2.0.0,>=1.32.0->langchain-openai) (4.12.2)\n",
      "Collecting httpx<1,>=0.23.0\n",
      "  Downloading httpx-0.27.0-py3-none-any.whl (75 kB)\n",
      "     ---------------------------------------- 75.6/75.6 kB 4.1 MB/s eta 0:00:00\n",
      "Collecting anyio<5,>=3.5.0\n",
      "  Downloading anyio-4.4.0-py3-none-any.whl (86 kB)\n",
      "     ---------------------------------------- 86.8/86.8 kB 4.8 MB/s eta 0:00:00\n",
      "Collecting distro<2,>=1.7.0\n",
      "  Downloading distro-1.9.0-py3-none-any.whl (20 kB)\n",
      "Collecting tqdm>4\n",
      "  Downloading tqdm-4.66.4-py3-none-any.whl (78 kB)\n",
      "     ---------------------------------------- 78.3/78.3 kB 4.5 MB/s eta 0:00:00\n",
      "Collecting sniffio\n",
      "  Downloading sniffio-1.3.1-py3-none-any.whl (10 kB)\n",
      "Collecting regex>=2022.1.18\n",
      "  Downloading regex-2024.5.15-cp310-cp310-win_amd64.whl (268 kB)\n",
      "     -------------------------------------- 269.0/269.0 kB 5.5 MB/s eta 0:00:00\n",
      "Collecting requests>=2.26.0\n",
      "  Downloading requests-2.32.3-py3-none-any.whl (64 kB)\n",
      "     ---------------------------------------- 64.9/64.9 kB 3.4 MB/s eta 0:00:00\n",
      "Requirement already satisfied: exceptiongroup>=1.0.2 in .\\inflearn-llm-application\\lib\\site-packages (from anyio<5,>=3.5.0->openai<2.0.0,>=1.32.0->langchain-openai) (1.2.1)\n",
      "Collecting idna>=2.8\n",
      "  Downloading idna-3.7-py3-none-any.whl (66 kB)\n",
      "     ---------------------------------------- 66.8/66.8 kB 3.5 MB/s eta 0:00:00\n",
      "Collecting certifi\n",
      "  Downloading certifi-2024.6.2-py3-none-any.whl (164 kB)\n",
      "     -------------------------------------- 164.4/164.4 kB 9.6 MB/s eta 0:00:00\n",
      "Collecting httpcore==1.*\n",
      "  Downloading httpcore-1.0.5-py3-none-any.whl (77 kB)\n",
      "     ---------------------------------------- 77.9/77.9 kB 4.2 MB/s eta 0:00:00\n",
      "Collecting h11<0.15,>=0.13\n",
      "  Downloading h11-0.14.0-py3-none-any.whl (58 kB)\n",
      "     ---------------------------------------- 58.3/58.3 kB ? eta 0:00:00\n",
      "Collecting jsonpointer>=1.9\n",
      "  Downloading jsonpointer-3.0.0-py2.py3-none-any.whl (7.6 kB)\n",
      "Collecting orjson<4.0.0,>=3.9.14\n",
      "  Downloading orjson-3.10.5-cp310-none-win_amd64.whl (141 kB)\n",
      "     -------------------------------------- 141.3/141.3 kB 8.2 MB/s eta 0:00:00\n",
      "Collecting pydantic-core==2.18.4\n",
      "  Downloading pydantic_core-2.18.4-cp310-none-win_amd64.whl (1.9 MB)\n",
      "     ---------------------------------------- 1.9/1.9 MB 10.2 MB/s eta 0:00:00\n",
      "Collecting annotated-types>=0.4.0\n",
      "  Downloading annotated_types-0.7.0-py3-none-any.whl (13 kB)\n",
      "Collecting charset-normalizer<4,>=2\n",
      "  Downloading charset_normalizer-3.3.2-cp310-cp310-win_amd64.whl (100 kB)\n",
      "     -------------------------------------- 100.3/100.3 kB 5.6 MB/s eta 0:00:00\n",
      "Collecting urllib3<3,>=1.21.1\n",
      "  Downloading urllib3-2.2.2-py3-none-any.whl (121 kB)\n",
      "     -------------------------------------- 121.4/121.4 kB 7.4 MB/s eta 0:00:00\n",
      "Requirement already satisfied: colorama in .\\inflearn-llm-application\\lib\\site-packages (from tqdm>4->openai<2.0.0,>=1.32.0->langchain-openai) (0.4.6)\n",
      "Installing collected packages: urllib3, tqdm, tenacity, sniffio, regex, PyYAML, python-dotenv, pydantic-core, orjson, jsonpointer, idna, h11, distro, charset-normalizer, certifi, annotated-types, requests, pydantic, jsonpatch, httpcore, anyio, tiktoken, langsmith, httpx, openai, langchain-core, langchain-openai\n",
      "Successfully installed PyYAML-6.0.1 annotated-types-0.7.0 anyio-4.4.0 certifi-2024.6.2 charset-normalizer-3.3.2 distro-1.9.0 h11-0.14.0 httpcore-1.0.5 httpx-0.27.0 idna-3.7 jsonpatch-1.33 jsonpointer-3.0.0 langchain-core-0.2.10 langchain-openai-0.1.13 langsmith-0.1.82 openai-1.35.7 orjson-3.10.5 pydantic-2.7.4 pydantic-core-2.18.4 python-dotenv-1.0.1 regex-2024.5.15 requests-2.32.3 sniffio-1.3.1 tenacity-8.4.2 tiktoken-0.7.0 tqdm-4.66.4 urllib3-2.2.2\n"
     ]
    },
    {
     "name": "stderr",
     "output_type": "stream",
     "text": [
      "\n",
      "[notice] A new release of pip available: 22.3.1 -> 24.1.1\n",
      "[notice] To update, run: python.exe -m pip install --upgrade pip\n"
     ]
    }
   ],
   "source": [
    "%pip install langchain-openai python-dotenv"
   ]
  },
  {
   "cell_type": "code",
   "execution_count": 1,
   "metadata": {},
   "outputs": [
    {
     "data": {
      "text/plain": [
       "True"
      ]
     },
     "execution_count": 1,
     "metadata": {},
     "output_type": "execute_result"
    }
   ],
   "source": [
    "from dotenv import load_dotenv\n",
    "\n",
    "load_dotenv()"
   ]
  },
  {
   "cell_type": "code",
   "execution_count": 2,
   "metadata": {},
   "outputs": [],
   "source": [
    "from langchain_openai import ChatOpenAI\n",
    "llm = ChatOpenAI()\n",
    "#llm = ChatOpenAI(api_key=\"sk-proj-3qQzvGiJZ6lOffE5da83T3BlbkFJq9jJ5ffvvUTpniWKba3e\")"
   ]
  },
  {
   "cell_type": "code",
   "execution_count": 3,
   "metadata": {},
   "outputs": [
    {
     "data": {
      "text/plain": [
       "AIMessage(content='인프런은 다양한 분야의 수업을 제공하는 온라인 교육 플랫폼입니다. 프로그래밍, 디자인, 비즈니스, 언어 등 다양한 주제의 강의를 제공하고 있습니다. 예를 들어, 파이썬, 자바스크립트, 리액트, 스케치, 포토샵, 마케팅, 경영 전략 등 다양한 주제의 강의를 수강할 수 있습니다. 인프런에서는 전문가들이 직접 강의를 진행하며, 학습자들은 온라인으로 수업을 듣고 과제를 제출하고 피드백을 받을 수 있습니다. 또한, 인프런에서는 인기 있는 강의들을 추천해주기도 하고, 새로운 강의들을 지속적으로 추가하고 있습니다. 원하는 주제나 분야에 맞는 강의를 찾아 수강할 수 있습니다.', response_metadata={'token_usage': {'completion_tokens': 298, 'prompt_tokens': 26, 'total_tokens': 324}, 'model_name': 'gpt-3.5-turbo-0125', 'system_fingerprint': None, 'finish_reason': 'stop', 'logprobs': None}, id='run-a6b8877f-be14-4597-ad1e-c52675646ab3-0', usage_metadata={'input_tokens': 26, 'output_tokens': 298, 'total_tokens': 324})"
      ]
     },
     "execution_count": 3,
     "metadata": {},
     "output_type": "execute_result"
    }
   ],
   "source": [
    "llm.invoke(\"인프런에 어떤 강의가 있나요?\")"
   ]
  },
  {
   "cell_type": "code",
   "execution_count": null,
   "metadata": {},
   "outputs": [],
   "source": []
  }
 ],
 "metadata": {
  "kernelspec": {
   "display_name": "inflearn-llm-application",
   "language": "python",
   "name": "python3"
  },
  "language_info": {
   "codemirror_mode": {
    "name": "ipython",
    "version": 3
   },
   "file_extension": ".py",
   "mimetype": "text/x-python",
   "name": "python",
   "nbconvert_exporter": "python",
   "pygments_lexer": "ipython3",
   "version": "3.10.9"
  }
 },
 "nbformat": 4,
 "nbformat_minor": 2
}
